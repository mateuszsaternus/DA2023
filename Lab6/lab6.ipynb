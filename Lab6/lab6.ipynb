{
 "cells": [
  {
   "attachments": {},
   "cell_type": "markdown",
   "metadata": {},
   "source": [
    "Mateusz Saternus\n",
    "\n",
    "Lab 6\n",
    "\n",
    "Model comparision"
   ]
  },
  {
   "cell_type": "code",
   "execution_count": 37,
   "metadata": {},
   "outputs": [],
   "source": [
    "from cmdstanpy import CmdStanModel\n",
    "import numpy as np\n",
    "import pandas as pd  \n",
    "import matplotlib.pyplot as plt\n",
    "import arviz as az\n",
    "\n",
    "N = (len(\"Mateusz\")+len(\"Saternus\"))*100"
   ]
  },
  {
   "attachments": {},
   "cell_type": "markdown",
   "metadata": {},
   "source": [
    "Exercise 1"
   ]
  },
  {
   "cell_type": "code",
   "execution_count": 38,
   "metadata": {},
   "outputs": [
    {
     "name": "stderr",
     "output_type": "stream",
     "text": [
      "INFO:cmdstanpy:found newer exe file, not recompiling\n",
      "INFO:cmdstanpy:CmdStan start processing\n",
      "chain 1 |\u001b[33m          \u001b[0m| 00:00 Status"
     ]
    },
    {
     "name": "stderr",
     "output_type": "stream",
     "text": [
      "chain 1 |\u001b[34m██████████\u001b[0m| 00:00 Sampling completed"
     ]
    },
    {
     "name": "stdout",
     "output_type": "stream",
     "text": [
      "                                                                                "
     ]
    },
    {
     "name": "stderr",
     "output_type": "stream",
     "text": [
      "\n",
      "INFO:cmdstanpy:CmdStan done processing.\n",
      "INFO:cmdstanpy:found newer exe file, not recompiling\n",
      "INFO:cmdstanpy:CmdStan start processing\n"
     ]
    },
    {
     "name": "stdout",
     "output_type": "stream",
     "text": [
      "\n"
     ]
    },
    {
     "name": "stderr",
     "output_type": "stream",
     "text": [
      "chain 1 |\u001b[34m██████████\u001b[0m| 00:00 Sampling completed"
     ]
    },
    {
     "name": "stdout",
     "output_type": "stream",
     "text": [
      "                                                                                "
     ]
    },
    {
     "name": "stderr",
     "output_type": "stream",
     "text": [
      "\n",
      "INFO:cmdstanpy:CmdStan done processing.\n"
     ]
    },
    {
     "name": "stdout",
     "output_type": "stream",
     "text": [
      "\n"
     ]
    }
   ],
   "source": [
    "code_1 = CmdStanModel(stan_file='code_1.stan')\n",
    "data = dict(N=N)\n",
    "sim_1 = code_1.sample(data=data, iter_sampling=1, fixed_param=True, iter_warmup=0, chains=1, seed=29042020)\n",
    "\n",
    "code_2 = CmdStanModel(stan_file='code_2.stan')\n",
    "data = dict(N=N)\n",
    "sim_2 = code_2.sample(data=data, iter_sampling=1, fixed_param=True, iter_warmup=0, chains=1, seed=29042020)"
   ]
  },
  {
   "cell_type": "code",
   "execution_count": 39,
   "metadata": {},
   "outputs": [
    {
     "data": {
      "text/html": [
       "<div>\n",
       "<style scoped>\n",
       "    .dataframe tbody tr th:only-of-type {\n",
       "        vertical-align: middle;\n",
       "    }\n",
       "\n",
       "    .dataframe tbody tr th {\n",
       "        vertical-align: top;\n",
       "    }\n",
       "\n",
       "    .dataframe thead th {\n",
       "        text-align: right;\n",
       "    }\n",
       "</style>\n",
       "<table border=\"1\" class=\"dataframe\">\n",
       "  <thead>\n",
       "    <tr style=\"text-align: right;\">\n",
       "      <th></th>\n",
       "      <th>lp__</th>\n",
       "      <th>accept_stat__</th>\n",
       "      <th>theta</th>\n",
       "      <th>y[1]</th>\n",
       "      <th>y[2]</th>\n",
       "      <th>y[3]</th>\n",
       "      <th>y[4]</th>\n",
       "      <th>y[5]</th>\n",
       "      <th>y[6]</th>\n",
       "      <th>y[7]</th>\n",
       "      <th>...</th>\n",
       "      <th>y[1491]</th>\n",
       "      <th>y[1492]</th>\n",
       "      <th>y[1493]</th>\n",
       "      <th>y[1494]</th>\n",
       "      <th>y[1495]</th>\n",
       "      <th>y[1496]</th>\n",
       "      <th>y[1497]</th>\n",
       "      <th>y[1498]</th>\n",
       "      <th>y[1499]</th>\n",
       "      <th>y[1500]</th>\n",
       "    </tr>\n",
       "  </thead>\n",
       "  <tbody>\n",
       "    <tr>\n",
       "      <th>0</th>\n",
       "      <td>0.0</td>\n",
       "      <td>0.0</td>\n",
       "      <td>0.01</td>\n",
       "      <td>-0.424502</td>\n",
       "      <td>-0.063661</td>\n",
       "      <td>-0.833885</td>\n",
       "      <td>1.55158</td>\n",
       "      <td>-0.362245</td>\n",
       "      <td>0.743487</td>\n",
       "      <td>0.970844</td>\n",
       "      <td>...</td>\n",
       "      <td>0.796778</td>\n",
       "      <td>0.100383</td>\n",
       "      <td>0.590511</td>\n",
       "      <td>1.02858</td>\n",
       "      <td>-1.17021</td>\n",
       "      <td>0.4086</td>\n",
       "      <td>-1.68559</td>\n",
       "      <td>-0.716873</td>\n",
       "      <td>-1.79799</td>\n",
       "      <td>-0.39452</td>\n",
       "    </tr>\n",
       "  </tbody>\n",
       "</table>\n",
       "<p>1 rows × 1503 columns</p>\n",
       "</div>"
      ],
      "text/plain": [
       "   lp__  accept_stat__  theta      y[1]      y[2]      y[3]     y[4]  \\\n",
       "0   0.0            0.0   0.01 -0.424502 -0.063661 -0.833885  1.55158   \n",
       "\n",
       "       y[5]      y[6]      y[7]  ...   y[1491]   y[1492]   y[1493]  y[1494]  \\\n",
       "0 -0.362245  0.743487  0.970844  ...  0.796778  0.100383  0.590511  1.02858   \n",
       "\n",
       "   y[1495]  y[1496]  y[1497]   y[1498]  y[1499]  y[1500]  \n",
       "0 -1.17021   0.4086 -1.68559 -0.716873 -1.79799 -0.39452  \n",
       "\n",
       "[1 rows x 1503 columns]"
      ]
     },
     "execution_count": 39,
     "metadata": {},
     "output_type": "execute_result"
    }
   ],
   "source": [
    "data_sim_1 = sim_1.draws_pd()\n",
    "data_sim_1.head()"
   ]
  },
  {
   "cell_type": "code",
   "execution_count": 40,
   "metadata": {},
   "outputs": [
    {
     "data": {
      "text/html": [
       "<div>\n",
       "<style scoped>\n",
       "    .dataframe tbody tr th:only-of-type {\n",
       "        vertical-align: middle;\n",
       "    }\n",
       "\n",
       "    .dataframe tbody tr th {\n",
       "        vertical-align: top;\n",
       "    }\n",
       "\n",
       "    .dataframe thead th {\n",
       "        text-align: right;\n",
       "    }\n",
       "</style>\n",
       "<table border=\"1\" class=\"dataframe\">\n",
       "  <thead>\n",
       "    <tr style=\"text-align: right;\">\n",
       "      <th></th>\n",
       "      <th>lp__</th>\n",
       "      <th>accept_stat__</th>\n",
       "      <th>X[1,1]</th>\n",
       "      <th>X[2,1]</th>\n",
       "      <th>X[3,1]</th>\n",
       "      <th>X[4,1]</th>\n",
       "      <th>X[5,1]</th>\n",
       "      <th>X[6,1]</th>\n",
       "      <th>X[7,1]</th>\n",
       "      <th>X[8,1]</th>\n",
       "      <th>...</th>\n",
       "      <th>y[1491]</th>\n",
       "      <th>y[1492]</th>\n",
       "      <th>y[1493]</th>\n",
       "      <th>y[1494]</th>\n",
       "      <th>y[1495]</th>\n",
       "      <th>y[1496]</th>\n",
       "      <th>y[1497]</th>\n",
       "      <th>y[1498]</th>\n",
       "      <th>y[1499]</th>\n",
       "      <th>y[1500]</th>\n",
       "    </tr>\n",
       "  </thead>\n",
       "  <tbody>\n",
       "    <tr>\n",
       "      <th>0</th>\n",
       "      <td>0.0</td>\n",
       "      <td>0.0</td>\n",
       "      <td>2.70817</td>\n",
       "      <td>0.777181</td>\n",
       "      <td>-1.27227</td>\n",
       "      <td>0.127591</td>\n",
       "      <td>-1.38942</td>\n",
       "      <td>0.246162</td>\n",
       "      <td>1.19873</td>\n",
       "      <td>2.26533</td>\n",
       "      <td>...</td>\n",
       "      <td>-0.393999</td>\n",
       "      <td>-0.649315</td>\n",
       "      <td>0.989486</td>\n",
       "      <td>3.87487</td>\n",
       "      <td>5.39303</td>\n",
       "      <td>0.160863</td>\n",
       "      <td>-1.7459</td>\n",
       "      <td>0.007008</td>\n",
       "      <td>0.789527</td>\n",
       "      <td>1.80712</td>\n",
       "    </tr>\n",
       "  </tbody>\n",
       "</table>\n",
       "<p>1 rows × 6005 columns</p>\n",
       "</div>"
      ],
      "text/plain": [
       "   lp__  accept_stat__   X[1,1]    X[2,1]   X[3,1]    X[4,1]   X[5,1]  \\\n",
       "0   0.0            0.0  2.70817  0.777181 -1.27227  0.127591 -1.38942   \n",
       "\n",
       "     X[6,1]   X[7,1]   X[8,1]  ...   y[1491]   y[1492]   y[1493]  y[1494]  \\\n",
       "0  0.246162  1.19873  2.26533  ... -0.393999 -0.649315  0.989486  3.87487   \n",
       "\n",
       "   y[1495]   y[1496]  y[1497]   y[1498]   y[1499]  y[1500]  \n",
       "0  5.39303  0.160863  -1.7459  0.007008  0.789527  1.80712  \n",
       "\n",
       "[1 rows x 6005 columns]"
      ]
     },
     "execution_count": 40,
     "metadata": {},
     "output_type": "execute_result"
    }
   ],
   "source": [
    "data_sim_2 = sim_2.draws_pd()\n",
    "data_sim_2.head()"
   ]
  },
  {
   "attachments": {},
   "cell_type": "markdown",
   "metadata": {},
   "source": [
    "Exercise 2"
   ]
  },
  {
   "cell_type": "code",
   "execution_count": 41,
   "metadata": {},
   "outputs": [
    {
     "name": "stderr",
     "output_type": "stream",
     "text": [
      "INFO:cmdstanpy:found newer exe file, not recompiling\n"
     ]
    },
    {
     "name": "stderr",
     "output_type": "stream",
     "text": [
      "INFO:cmdstanpy:CmdStan start processing\n",
      "chain 1 |\u001b[33m          \u001b[0m| 00:00 Status\n",
      "\u001b[A\n",
      "\n",
      "chain 1 |\u001b[34m█████▉    \u001b[0m| 00:00 Iteration: 1001 / 2000 [ 50%]  (Sampling)\n",
      "\u001b[A\n",
      "\n",
      "chain 1 |\u001b[34m██████████\u001b[0m| 00:00 Sampling completed                       \n",
      "chain 2 |\u001b[34m██████████\u001b[0m| 00:00 Sampling completed                       \n",
      "chain 3 |\u001b[34m██████████\u001b[0m| 00:00 Sampling completed                       \n",
      "chain 4 |\u001b[34m██████████\u001b[0m| 00:00 Sampling completed                       "
     ]
    },
    {
     "name": "stdout",
     "output_type": "stream",
     "text": [
      "                                                                                                                                                                                                                                                                                                                                "
     ]
    },
    {
     "name": "stderr",
     "output_type": "stream",
     "text": [
      "\n",
      "INFO:cmdstanpy:CmdStan done processing.\n"
     ]
    },
    {
     "name": "stdout",
     "output_type": "stream",
     "text": [
      "\n"
     ]
    }
   ],
   "source": [
    "code_3 = CmdStanModel(stan_file='code_3.stan')\n",
    "data_3 = dict(N=N, y=data_sim_1.iloc[:,3:].to_numpy().reshape(-1))\n",
    "sim_3 = code_3.sample(data= data_3)"
   ]
  },
  {
   "cell_type": "code",
   "execution_count": 42,
   "metadata": {},
   "outputs": [
    {
     "name": "stderr",
     "output_type": "stream",
     "text": [
      "INFO:cmdstanpy:found newer exe file, not recompiling\n",
      "INFO:cmdstanpy:CmdStan start processing\n",
      "chain 1 |\u001b[33m          \u001b[0m| 00:00 Status\n",
      "\u001b[A\n",
      "\n",
      "chain 1 |\u001b[33m███▏      \u001b[0m| 00:00 Iteration:  500 / 2000 [ 25%]  (Warmup)\n",
      "\n",
      "\u001b[A\u001b[A\n",
      "chain 1 |\u001b[34m██████▎   \u001b[0m| 00:00 Iteration: 1100 / 2000 [ 55%]  (Sampling)\n",
      "\u001b[A\n",
      "\n",
      "chain 1 |\u001b[34m████████▋ \u001b[0m| 00:00 Iteration: 1600 / 2000 [ 80%]  (Sampling)\n",
      "\u001b[A\n",
      "\n",
      "chain 1 |\u001b[34m██████████\u001b[0m| 00:01 Sampling completed                       \n",
      "chain 2 |\u001b[34m██████████\u001b[0m| 00:01 Sampling completed                       \n",
      "chain 3 |\u001b[34m██████████\u001b[0m| 00:01 Sampling completed                       \n",
      "chain 4 |\u001b[34m██████████\u001b[0m| 00:01 Sampling completed                       "
     ]
    },
    {
     "name": "stdout",
     "output_type": "stream",
     "text": [
      "                                                                                                                                                                                                                                                                                                                                "
     ]
    },
    {
     "name": "stderr",
     "output_type": "stream",
     "text": [
      "\n",
      "INFO:cmdstanpy:CmdStan done processing.\n"
     ]
    },
    {
     "name": "stdout",
     "output_type": "stream",
     "text": [
      "\n"
     ]
    }
   ],
   "source": [
    "code_4 = CmdStanModel(stan_file='code_4.stan')\n",
    "data_4 = dict(N=N, y=data_sim_1.iloc[:,3:].to_numpy().reshape(-1))\n",
    "sim_4 = code_4.sample(data= data_4)"
   ]
  },
  {
   "cell_type": "code",
   "execution_count": 43,
   "metadata": {},
   "outputs": [
    {
     "name": "stderr",
     "output_type": "stream",
     "text": [
      "/usr/local/lib/python3.9/site-packages/arviz/stats/stats.py:811: UserWarning: Estimated shape parameter of Pareto distribution is greater than 0.7 for one or more samples. You should consider using a more robust model, this is because importance sampling is less likely to work well if the marginal posterior and LOO posterior are very different. This is more likely to happen with a non-robust model and highly influential observations.\n",
      "  warnings.warn(\n"
     ]
    },
    {
     "data": {
      "text/html": [
       "<div>\n",
       "<style scoped>\n",
       "    .dataframe tbody tr th:only-of-type {\n",
       "        vertical-align: middle;\n",
       "    }\n",
       "\n",
       "    .dataframe tbody tr th {\n",
       "        vertical-align: top;\n",
       "    }\n",
       "\n",
       "    .dataframe thead th {\n",
       "        text-align: right;\n",
       "    }\n",
       "</style>\n",
       "<table border=\"1\" class=\"dataframe\">\n",
       "  <thead>\n",
       "    <tr style=\"text-align: right;\">\n",
       "      <th></th>\n",
       "      <th>rank</th>\n",
       "      <th>loo</th>\n",
       "      <th>p_loo</th>\n",
       "      <th>d_loo</th>\n",
       "      <th>weight</th>\n",
       "      <th>se</th>\n",
       "      <th>dse</th>\n",
       "      <th>warning</th>\n",
       "      <th>loo_scale</th>\n",
       "    </tr>\n",
       "  </thead>\n",
       "  <tbody>\n",
       "    <tr>\n",
       "      <th>student</th>\n",
       "      <td>0</td>\n",
       "      <td>-2267.554950</td>\n",
       "      <td>4.181962</td>\n",
       "      <td>0.000000</td>\n",
       "      <td>1.0</td>\n",
       "      <td>44.427361</td>\n",
       "      <td>0.000000</td>\n",
       "      <td>False</td>\n",
       "      <td>log</td>\n",
       "    </tr>\n",
       "    <tr>\n",
       "      <th>normal</th>\n",
       "      <td>1</td>\n",
       "      <td>-2896.983899</td>\n",
       "      <td>30.501245</td>\n",
       "      <td>629.428949</td>\n",
       "      <td>0.0</td>\n",
       "      <td>155.757447</td>\n",
       "      <td>125.118195</td>\n",
       "      <td>True</td>\n",
       "      <td>log</td>\n",
       "    </tr>\n",
       "  </tbody>\n",
       "</table>\n",
       "</div>"
      ],
      "text/plain": [
       "         rank          loo      p_loo       d_loo  weight          se  \\\n",
       "student     0 -2267.554950   4.181962    0.000000     1.0   44.427361   \n",
       "normal      1 -2896.983899  30.501245  629.428949     0.0  155.757447   \n",
       "\n",
       "                dse  warning loo_scale  \n",
       "student    0.000000    False       log  \n",
       "normal   125.118195     True       log  "
      ]
     },
     "execution_count": 43,
     "metadata": {},
     "output_type": "execute_result"
    }
   ],
   "source": [
    "data_comp = {'normal': sim_3, 'student': sim_4}\n",
    "compare_loo = az.compare(data_comp, ic='loo')\n",
    "compare_loo"
   ]
  },
  {
   "cell_type": "code",
   "execution_count": 44,
   "metadata": {},
   "outputs": [
    {
     "data": {
      "image/png": "[encoded data removed]",
      "text/plain": [
       "<Figure size 720x360 with 1 Axes>"
      ]
     },
     "metadata": {
      "needs_background": "light"
     },
     "output_type": "display_data"
    }
   ],
   "source": [
    "az.plot_compare(compare_loo, figsize = (10,5))\n",
    "plt.title('Loo')\n",
    "plt.show()"
   ]
  },
  {
   "cell_type": "code",
   "execution_count": 45,
   "metadata": {},
   "outputs": [
    {
     "name": "stderr",
     "output_type": "stream",
     "text": [
      "/usr/local/lib/python3.9/site-packages/arviz/stats/stats.py:1635: UserWarning: For one or more samples the posterior variance of the log predictive densities exceeds 0.4. This could be indication of WAIC starting to fail. \n",
      "See http://arxiv.org/abs/1507.04544 for details\n",
      "  warnings.warn(\n"
     ]
    },
    {
     "data": {
      "text/html": [
       "<div>\n",
       "<style scoped>\n",
       "    .dataframe tbody tr th:only-of-type {\n",
       "        vertical-align: middle;\n",
       "    }\n",
       "\n",
       "    .dataframe tbody tr th {\n",
       "        vertical-align: top;\n",
       "    }\n",
       "\n",
       "    .dataframe thead th {\n",
       "        text-align: right;\n",
       "    }\n",
       "</style>\n",
       "<table border=\"1\" class=\"dataframe\">\n",
       "  <thead>\n",
       "    <tr style=\"text-align: right;\">\n",
       "      <th></th>\n",
       "      <th>rank</th>\n",
       "      <th>waic</th>\n",
       "      <th>p_waic</th>\n",
       "      <th>d_waic</th>\n",
       "      <th>weight</th>\n",
       "      <th>se</th>\n",
       "      <th>dse</th>\n",
       "      <th>warning</th>\n",
       "      <th>waic_scale</th>\n",
       "    </tr>\n",
       "  </thead>\n",
       "  <tbody>\n",
       "    <tr>\n",
       "      <th>student</th>\n",
       "      <td>0</td>\n",
       "      <td>-2267.553464</td>\n",
       "      <td>4.180476</td>\n",
       "      <td>0.000000</td>\n",
       "      <td>1.000000e+00</td>\n",
       "      <td>44.427010</td>\n",
       "      <td>0.000000</td>\n",
       "      <td>False</td>\n",
       "      <td>log</td>\n",
       "    </tr>\n",
       "    <tr>\n",
       "      <th>normal</th>\n",
       "      <td>1</td>\n",
       "      <td>-2898.321162</td>\n",
       "      <td>31.838508</td>\n",
       "      <td>630.767698</td>\n",
       "      <td>4.627623e-09</td>\n",
       "      <td>156.337699</td>\n",
       "      <td>125.722847</td>\n",
       "      <td>True</td>\n",
       "      <td>log</td>\n",
       "    </tr>\n",
       "  </tbody>\n",
       "</table>\n",
       "</div>"
      ],
      "text/plain": [
       "         rank         waic     p_waic      d_waic        weight          se  \\\n",
       "student     0 -2267.553464   4.180476    0.000000  1.000000e+00   44.427010   \n",
       "normal      1 -2898.321162  31.838508  630.767698  4.627623e-09  156.337699   \n",
       "\n",
       "                dse  warning waic_scale  \n",
       "student    0.000000    False        log  \n",
       "normal   125.722847     True        log  "
      ]
     },
     "execution_count": 45,
     "metadata": {},
     "output_type": "execute_result"
    }
   ],
   "source": [
    "comparison_waic = az.compare(data_comp, ic='waic')\n",
    "comparison_waic"
   ]
  },
  {
   "cell_type": "code",
   "execution_count": 46,
   "metadata": {},
   "outputs": [
    {
     "data": {
      "image/png": "[encoded data removed]",
      "text/plain": [
       "<Figure size 720x360 with 1 Axes>"
      ]
     },
     "metadata": {
      "needs_background": "light"
     },
     "output_type": "display_data"
    }
   ],
   "source": [
    "az.plot_compare(comparison_waic, figsize=(10,5))\n",
    "plt.title('Waic')\n",
    "plt.show()"
   ]
  },
  {
   "attachments": {},
   "cell_type": "markdown",
   "metadata": {},
   "source": [
    "Exercise 3"
   ]
  },
  {
   "cell_type": "code",
   "execution_count": 47,
   "metadata": {},
   "outputs": [
    {
     "name": "stderr",
     "output_type": "stream",
     "text": [
      "INFO:cmdstanpy:found newer exe file, not recompiling\n"
     ]
    }
   ],
   "source": [
    "code_5=CmdStanModel(stan_file='code_5.stan')"
   ]
  },
  {
   "cell_type": "code",
   "execution_count": 48,
   "metadata": {},
   "outputs": [
    {
     "name": "stderr",
     "output_type": "stream",
     "text": [
      "INFO:cmdstanpy:CmdStan start processing\n",
      "chain 1 |\u001b[33m          \u001b[0m| 00:00 Status\n",
      "\u001b[A\n",
      "\n",
      "\u001b[A\u001b[A\n",
      "chain 1 |\u001b[33m███▏      \u001b[0m| 00:00 Iteration:  500 / 2000 [ 25%]  (Warmup)\n",
      "\n",
      "\u001b[A\u001b[A\n",
      "chain 1 |\u001b[34m██████▎   \u001b[0m| 00:00 Iteration: 1100 / 2000 [ 55%]  (Sampling)\n",
      "\n",
      "\u001b[A\u001b[A\n",
      "chain 1 |\u001b[34m████████▋ \u001b[0m| 00:01 Iteration: 1600 / 2000 [ 80%]  (Sampling)\n",
      "\n",
      "\u001b[A\u001b[A\n",
      "chain 1 |\u001b[34m██████████\u001b[0m| 00:01 Sampling completed                       \n",
      "chain 2 |\u001b[34m██████████\u001b[0m| 00:01 Sampling completed                       \n",
      "chain 3 |\u001b[34m██████████\u001b[0m| 00:01 Sampling completed                       \n",
      "chain 4 |\u001b[34m██████████\u001b[0m| 00:01 Sampling completed                       "
     ]
    },
    {
     "name": "stdout",
     "output_type": "stream",
     "text": [
      "                                                                                                                                                                                                                                                                                                                                "
     ]
    },
    {
     "name": "stderr",
     "output_type": "stream",
     "text": [
      "\n",
      "INFO:cmdstanpy:CmdStan done processing.\n"
     ]
    },
    {
     "name": "stdout",
     "output_type": "stream",
     "text": [
      "\n"
     ]
    }
   ],
   "source": [
    "data_compare_5_1 = {'N': N, 'K': 1, 'y': data_sim_2.loc[:, 'y[1]':].values.reshape((N)), 'X': data_sim_2.loc[:, 'X[1,1]': f'X[{N},1]'].values.reshape((N, 1))}\n",
    "sim_5_1=code_5.sample(data=data_compare_5_1)"
   ]
  },
  {
   "cell_type": "code",
   "execution_count": 49,
   "metadata": {},
   "outputs": [
    {
     "name": "stderr",
     "output_type": "stream",
     "text": [
      "INFO:cmdstanpy:CmdStan start processing\n",
      "chain 1 |\u001b[33m          \u001b[0m| 00:00 Status\n",
      "\u001b[A\n",
      "\n",
      "\u001b[A\u001b[A\n",
      "\n",
      "\u001b[A\u001b[A\n",
      "chain 1 |\u001b[33m██▎       \u001b[0m| 00:00 Iteration:  300 / 2000 [ 15%]  (Warmup)\n",
      "\n",
      "chain 1 |\u001b[34m█████▉    \u001b[0m| 00:00 Iteration: 1001 / 2000 [ 50%]  (Sampling)\n",
      "\u001b[A\n",
      "\n",
      "chain 1 |\u001b[34m████████▏ \u001b[0m| 00:00 Iteration: 1500 / 2000 [ 75%]  (Sampling)\n",
      "\u001b[A\n",
      "\n",
      "\u001b[A\u001b[A\n",
      "chain 1 |\u001b[34m██████████\u001b[0m| 00:01 Sampling completed                       \n",
      "chain 2 |\u001b[34m██████████\u001b[0m| 00:01 Sampling completed                       \n",
      "chain 3 |\u001b[34m██████████\u001b[0m| 00:01 Sampling completed                       \n",
      "chain 4 |\u001b[34m██████████\u001b[0m| 00:01 Sampling completed                       "
     ]
    },
    {
     "name": "stdout",
     "output_type": "stream",
     "text": [
      "                                                                                                                                                                                                                                                                                                                                "
     ]
    },
    {
     "name": "stderr",
     "output_type": "stream",
     "text": [
      "\n",
      "INFO:cmdstanpy:CmdStan done processing.\n"
     ]
    },
    {
     "name": "stdout",
     "output_type": "stream",
     "text": [
      "\n"
     ]
    }
   ],
   "source": [
    "data_compare_5_2 = {'N': N, 'K': 2, 'y': data_sim_2.loc[:, 'y[1]':].values.reshape((N)), 'X': data_sim_2.loc[:, 'X[1,1]': f'X[{N},2]'].values.reshape((N, 2))}\n",
    "sim_5_2=code_5.sample(data=data_compare_5_2)"
   ]
  },
  {
   "cell_type": "code",
   "execution_count": 50,
   "metadata": {},
   "outputs": [
    {
     "name": "stderr",
     "output_type": "stream",
     "text": [
      "INFO:cmdstanpy:CmdStan start processing\n",
      "chain 1 |\u001b[33m          \u001b[0m| 00:00 Status\n",
      "\u001b[A\n",
      "\n",
      "\u001b[A\u001b[A\n",
      "chain 1 |\u001b[33m█▊        \u001b[0m| 00:00 Iteration:  200 / 2000 [ 10%]  (Warmup)\n",
      "\n",
      "chain 1 |\u001b[34m█████▉    \u001b[0m| 00:00 Iteration: 1001 / 2000 [ 50%]  (Sampling)\n",
      "\u001b[A\n",
      "\n",
      "chain 1 |\u001b[34m████████▏ \u001b[0m| 00:00 Iteration: 1500 / 2000 [ 75%]  (Sampling)\n",
      "\u001b[A\n",
      "\n",
      "chain 1 |\u001b[34m█████████▌\u001b[0m| 00:01 Iteration: 1800 / 2000 [ 90%]  (Sampling)\n",
      "\n",
      "\u001b[A\u001b[A\n",
      "chain 1 |\u001b[34m██████████\u001b[0m| 00:01 Sampling completed                       \n",
      "chain 2 |\u001b[34m██████████\u001b[0m| 00:01 Sampling completed                       \n",
      "chain 3 |\u001b[34m██████████\u001b[0m| 00:01 Sampling completed                       \n",
      "chain 4 |\u001b[34m██████████\u001b[0m| 00:01 Sampling completed                       "
     ]
    },
    {
     "name": "stdout",
     "output_type": "stream",
     "text": [
      "                                                                                                                                                                                                                                                                                                                                "
     ]
    },
    {
     "name": "stderr",
     "output_type": "stream",
     "text": [
      "\n",
      "INFO:cmdstanpy:CmdStan done processing.\n"
     ]
    },
    {
     "name": "stdout",
     "output_type": "stream",
     "text": [
      "\n"
     ]
    }
   ],
   "source": [
    "data_compare_5_3 = {'N': N, 'K': 3, 'y': data_sim_2.loc[:, 'y[1]':].values.reshape((N)), 'X': data_sim_2.loc[:, 'X[1,1]': f'X[{N},3]'].values.reshape((N, 3))}\n",
    "sim_5_3=code_5.sample(data=data_compare_5_3)"
   ]
  },
  {
   "cell_type": "code",
   "execution_count": 51,
   "metadata": {},
   "outputs": [
    {
     "data": {
      "text/html": [
       "<div>\n",
       "<style scoped>\n",
       "    .dataframe tbody tr th:only-of-type {\n",
       "        vertical-align: middle;\n",
       "    }\n",
       "\n",
       "    .dataframe tbody tr th {\n",
       "        vertical-align: top;\n",
       "    }\n",
       "\n",
       "    .dataframe thead th {\n",
       "        text-align: right;\n",
       "    }\n",
       "</style>\n",
       "<table border=\"1\" class=\"dataframe\">\n",
       "  <thead>\n",
       "    <tr style=\"text-align: right;\">\n",
       "      <th></th>\n",
       "      <th>rank</th>\n",
       "      <th>loo</th>\n",
       "      <th>p_loo</th>\n",
       "      <th>d_loo</th>\n",
       "      <th>weight</th>\n",
       "      <th>se</th>\n",
       "      <th>dse</th>\n",
       "      <th>warning</th>\n",
       "      <th>loo_scale</th>\n",
       "    </tr>\n",
       "  </thead>\n",
       "  <tbody>\n",
       "    <tr>\n",
       "      <th>model_5_1</th>\n",
       "      <td>0</td>\n",
       "      <td>-2712.020636</td>\n",
       "      <td>1.927629</td>\n",
       "      <td>0.000000</td>\n",
       "      <td>1.000000e+00</td>\n",
       "      <td>26.997249</td>\n",
       "      <td>0.000000</td>\n",
       "      <td>False</td>\n",
       "      <td>log</td>\n",
       "    </tr>\n",
       "    <tr>\n",
       "      <th>model_5_2</th>\n",
       "      <td>1</td>\n",
       "      <td>-3515.196788</td>\n",
       "      <td>2.922122</td>\n",
       "      <td>803.176152</td>\n",
       "      <td>2.974597e-14</td>\n",
       "      <td>26.456059</td>\n",
       "      <td>30.311209</td>\n",
       "      <td>False</td>\n",
       "      <td>log</td>\n",
       "    </tr>\n",
       "    <tr>\n",
       "      <th>model_5_3</th>\n",
       "      <td>2</td>\n",
       "      <td>-3516.305759</td>\n",
       "      <td>4.020031</td>\n",
       "      <td>804.285124</td>\n",
       "      <td>0.000000e+00</td>\n",
       "      <td>26.401706</td>\n",
       "      <td>30.274696</td>\n",
       "      <td>False</td>\n",
       "      <td>log</td>\n",
       "    </tr>\n",
       "  </tbody>\n",
       "</table>\n",
       "</div>"
      ],
      "text/plain": [
       "           rank          loo     p_loo       d_loo        weight         se  \\\n",
       "model_5_1     0 -2712.020636  1.927629    0.000000  1.000000e+00  26.997249   \n",
       "model_5_2     1 -3515.196788  2.922122  803.176152  2.974597e-14  26.456059   \n",
       "model_5_3     2 -3516.305759  4.020031  804.285124  0.000000e+00  26.401706   \n",
       "\n",
       "                 dse  warning loo_scale  \n",
       "model_5_1   0.000000    False       log  \n",
       "model_5_2  30.311209    False       log  \n",
       "model_5_3  30.274696    False       log  "
      ]
     },
     "execution_count": 51,
     "metadata": {},
     "output_type": "execute_result"
    }
   ],
   "source": [
    "data_comp2 = {'model_5_1': sim_5_1, 'model_5_2': sim_5_2, 'model_5_3': sim_5_3}\n",
    "compare_loo = az.compare(data_comp2, ic='loo')\n",
    "compare_loo"
   ]
  },
  {
   "cell_type": "code",
   "execution_count": 52,
   "metadata": {},
   "outputs": [
    {
     "data": {
      "image/png": "[encoded data removed]",
      "text/plain": [
       "<Figure size 720x360 with 1 Axes>"
      ]
     },
     "metadata": {
      "needs_background": "light"
     },
     "output_type": "display_data"
    }
   ],
   "source": [
    "az.plot_compare(compare_loo, figsize = (10,5))\n",
    "plt.title('Loo')\n",
    "plt.show()"
   ]
  },
  {
   "cell_type": "code",
   "execution_count": 53,
   "metadata": {},
   "outputs": [
    {
     "data": {
      "text/html": [
       "<div>\n",
       "<style scoped>\n",
       "    .dataframe tbody tr th:only-of-type {\n",
       "        vertical-align: middle;\n",
       "    }\n",
       "\n",
       "    .dataframe tbody tr th {\n",
       "        vertical-align: top;\n",
       "    }\n",
       "\n",
       "    .dataframe thead th {\n",
       "        text-align: right;\n",
       "    }\n",
       "</style>\n",
       "<table border=\"1\" class=\"dataframe\">\n",
       "  <thead>\n",
       "    <tr style=\"text-align: right;\">\n",
       "      <th></th>\n",
       "      <th>rank</th>\n",
       "      <th>waic</th>\n",
       "      <th>p_waic</th>\n",
       "      <th>d_waic</th>\n",
       "      <th>weight</th>\n",
       "      <th>se</th>\n",
       "      <th>dse</th>\n",
       "      <th>warning</th>\n",
       "      <th>waic_scale</th>\n",
       "    </tr>\n",
       "  </thead>\n",
       "  <tbody>\n",
       "    <tr>\n",
       "      <th>model_5_1</th>\n",
       "      <td>0</td>\n",
       "      <td>-2712.020724</td>\n",
       "      <td>1.927717</td>\n",
       "      <td>0.000000</td>\n",
       "      <td>1.000000e+00</td>\n",
       "      <td>26.997257</td>\n",
       "      <td>0.000000</td>\n",
       "      <td>False</td>\n",
       "      <td>log</td>\n",
       "    </tr>\n",
       "    <tr>\n",
       "      <th>model_5_2</th>\n",
       "      <td>1</td>\n",
       "      <td>-3515.197013</td>\n",
       "      <td>2.922347</td>\n",
       "      <td>803.176289</td>\n",
       "      <td>2.063079e-10</td>\n",
       "      <td>26.456091</td>\n",
       "      <td>30.311230</td>\n",
       "      <td>False</td>\n",
       "      <td>log</td>\n",
       "    </tr>\n",
       "    <tr>\n",
       "      <th>model_5_3</th>\n",
       "      <td>2</td>\n",
       "      <td>-3516.305628</td>\n",
       "      <td>4.019899</td>\n",
       "      <td>804.284904</td>\n",
       "      <td>0.000000e+00</td>\n",
       "      <td>26.401689</td>\n",
       "      <td>30.274687</td>\n",
       "      <td>False</td>\n",
       "      <td>log</td>\n",
       "    </tr>\n",
       "  </tbody>\n",
       "</table>\n",
       "</div>"
      ],
      "text/plain": [
       "           rank         waic    p_waic      d_waic        weight         se  \\\n",
       "model_5_1     0 -2712.020724  1.927717    0.000000  1.000000e+00  26.997257   \n",
       "model_5_2     1 -3515.197013  2.922347  803.176289  2.063079e-10  26.456091   \n",
       "model_5_3     2 -3516.305628  4.019899  804.284904  0.000000e+00  26.401689   \n",
       "\n",
       "                 dse  warning waic_scale  \n",
       "model_5_1   0.000000    False        log  \n",
       "model_5_2  30.311230    False        log  \n",
       "model_5_3  30.274687    False        log  "
      ]
     },
     "execution_count": 53,
     "metadata": {},
     "output_type": "execute_result"
    }
   ],
   "source": [
    "compare_waic = az.compare(data_comp2, ic='waic')\n",
    "compare_waic"
   ]
  },
  {
   "cell_type": "code",
   "execution_count": 54,
   "metadata": {},
   "outputs": [
    {
     "data": {
      "image/png": "[encoded data removed]",
      "text/plain": [
       "<Figure size 720x360 with 1 Axes>"
      ]
     },
     "metadata": {
      "needs_background": "light"
     },
     "output_type": "display_data"
    }
   ],
   "source": [
    "az.plot_compare(compare_waic, figsize = (10,5))\n",
    "plt.title('Waic')\n",
    "plt.show()"
   ]
  }
 ],
 "metadata": {
  "kernelspec": {
   "display_name": "Python 3",
   "language": "python",
   "name": "python3"
  },
  "language_info": {
   "codemirror_mode": {
    "name": "ipython",
    "version": 3
   },
   "file_extension": ".py",
   "mimetype": "text/x-python",
   "name": "python",
   "nbconvert_exporter": "python",
   "pygments_lexer": "ipython3",
   "version": "3.9.11"
  },
  "orig_nbformat": 4
 },
 "nbformat": 4,
 "nbformat_minor": 2
}
