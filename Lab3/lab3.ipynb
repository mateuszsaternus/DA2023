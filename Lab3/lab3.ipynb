{
 "cells": [
  {
   "cell_type": "code",
   "execution_count": 1,
   "metadata": {},
   "outputs": [
    {
     "name": "stderr",
     "output_type": "stream",
     "text": [
      "/usr/local/lib/python3.9/site-packages/tqdm/auto.py:22: TqdmWarning: IProgress not found. Please update jupyter and ipywidgets. See https://ipywidgets.readthedocs.io/en/stable/user_install.html\n",
      "  from .autonotebook import tqdm as notebook_tqdm\n"
     ]
    }
   ],
   "source": [
    "from cmdstanpy import CmdStanModel\n",
    "import pandas as pd\n",
    "import arviz as az \n",
    "import numpy as np\n",
    "import matplotlib.pyplot as plt\n",
    "import scipy.stats as stats\n",
    "import arviz as az\n",
    "import numpy as np"
   ]
  },
  {
   "attachments": {},
   "cell_type": "markdown",
   "metadata": {},
   "source": [
    "Lab 3\n",
    "\n",
    "Mateusz Saternus"
   ]
  },
  {
   "attachments": {},
   "cell_type": "markdown",
   "metadata": {},
   "source": [
    "Task 1"
   ]
  },
  {
   "cell_type": "code",
   "execution_count": 19,
   "metadata": {},
   "outputs": [
    {
     "name": "stderr",
     "output_type": "stream",
     "text": [
      "INFO:cmdstanpy:compiling stan file /home/Lab3/code1.stan to exe file /home/Lab3/code1\n",
      "INFO:cmdstanpy:compiled model executable: /home/Lab3/code1\n"
     ]
    }
   ],
   "source": [
    "generated_quantities = CmdStanModel(stan_file='code1.stan')"
   ]
  },
  {
   "cell_type": "code",
   "execution_count": 21,
   "metadata": {},
   "outputs": [
    {
     "name": "stderr",
     "output_type": "stream",
     "text": [
      "INFO:cmdstanpy:CmdStan start processing\n",
      "chain 1 |\u001b[34m██████████\u001b[0m| 00:00 Sampling completed"
     ]
    },
    {
     "name": "stdout",
     "output_type": "stream",
     "text": [
      "                                                                                "
     ]
    },
    {
     "name": "stderr",
     "output_type": "stream",
     "text": [
      "\n",
      "INFO:cmdstanpy:CmdStan done processing.\n"
     ]
    },
    {
     "name": "stdout",
     "output_type": "stream",
     "text": [
      "\n",
      "      Mean    MCSE        StdDev      5%    50%    95%  N_Eff   N_Eff/s  R_hat\n",
      "name                                                                          \n",
      "lp__   0.0     NaN  0.000000e+00   0.000   0.00   0.00    NaN       NaN    NaN\n",
      "N     50.0     NaN  1.700000e-13  50.000  50.00  50.00    NaN       NaN    NaN\n",
      "y      9.9  0.2100  6.400000e+00   1.000   9.00  22.00  980.0  490000.0    1.0\n",
      "p      0.2  0.0038  1.200000e-01   0.039   0.18   0.42  960.0  480000.0    1.0\n"
     ]
    }
   ],
   "source": [
    "sample_num = 1000\n",
    "samples = generated_quantities.sample( fixed_param=True, \n",
    "                            iter_sampling=sample_num, \n",
    "                            iter_warmup=0, \n",
    "                            chains = 1)\n",
    "print(samples.summary())"
   ]
  },
  {
   "cell_type": "code",
   "execution_count": 24,
   "metadata": {},
   "outputs": [
    {
     "data": {
      "image/png": "[encoded data removed]",
      "text/plain": [
       "<Figure size 432x288 with 1 Axes>"
      ]
     },
     "metadata": {
      "needs_background": "light"
     },
     "output_type": "display_data"
    }
   ],
   "source": [
    "#Computing ratio of allergic reactions for each sample and create a histogram.\n",
    "df = samples.draws_pd()\n",
    "\n",
    "ratios = df['y'] / df['N']\n",
    "plt.hist(ratios, bins=20)\n",
    "plt.xlabel('Ratio of allergic reactions')\n",
    "plt.ylabel('Quantity')\n",
    "plt.show()"
   ]
  },
  {
   "cell_type": "code",
   "execution_count": 25,
   "metadata": {},
   "outputs": [
    {
     "data": {
      "text/plain": [
       "0.19820000000000004"
      ]
     },
     "execution_count": 25,
     "metadata": {},
     "output_type": "execute_result"
    }
   ],
   "source": [
    "np.mean(ratios)"
   ]
  },
  {
   "cell_type": "markdown",
   "metadata": {},
   "source": [
    "At first try with distribution p = beta_rng(2, 5) mean value was about p=28.5%, which was too high.\n",
    "After changing the parameters to  p = beta_rng(2, 8) mean value is 19,8%, what is consistient with prior knowledge.  "
   ]
  },
  {
   "attachments": {},
   "cell_type": "markdown",
   "metadata": {},
   "source": [
    "Task 2"
   ]
  },
  {
   "cell_type": "code",
   "execution_count": 56,
   "metadata": {},
   "outputs": [
    {
     "name": "stderr",
     "output_type": "stream",
     "text": [
      "INFO:cmdstanpy:found newer exe file, not recompiling\n",
      "INFO:cmdstanpy:CmdStan start processing\n",
      "chain 1 |\u001b[34m██████████\u001b[0m| 00:00 Sampling completed"
     ]
    },
    {
     "name": "stdout",
     "output_type": "stream",
     "text": [
      "                                                                                "
     ]
    },
    {
     "name": "stderr",
     "output_type": "stream",
     "text": [
      "\n",
      "INFO:cmdstanpy:CmdStan done processing.\n"
     ]
    },
    {
     "name": "stdout",
     "output_type": "stream",
     "text": [
      "\n"
     ]
    }
   ],
   "source": [
    "N = 50\n",
    "y = 7\n",
    "model = CmdStanModel(stan_file='/home/Lab3/code2.stan')\n",
    "samples2 = model.sample(data={'N': N, 'y': y}, fixed_param=True)"
   ]
  },
  {
   "cell_type": "code",
   "execution_count": 62,
   "metadata": {},
   "outputs": [
    {
     "data": {
      "text/plain": [
       "<AxesSubplot:title={'center':'x'}>"
      ]
     },
     "execution_count": 62,
     "metadata": {},
     "output_type": "execute_result"
    },
    {
     "data": {
      "image/png": "[encoded data removed]",
      "text/plain": [
       "<Figure size 432x288 with 1 Axes>"
      ]
     },
     "metadata": {
      "needs_background": "light"
     },
     "output_type": "display_data"
    }
   ],
   "source": [
    "df2 = samples2.draws_pd()\n",
    "ratio = df2['y_pred']/N\n",
    "ratio = np.array(ratio)\n",
    "az.plot_posterior(ratio, kind='hist', round_to=2)"
   ]
  },
  {
   "cell_type": "code",
   "execution_count": 65,
   "metadata": {},
   "outputs": [
    {
     "name": "stdout",
     "output_type": "stream",
     "text": [
      "Predicted ratio 94% HDI in range: [0.06 0.24]\n",
      "Predicted expected value: 0.14540000000000003\n",
      "Probability of ratio < 0.2: 0.809\n"
     ]
    }
   ],
   "source": [
    "ratio_hdi = np.percentile(ratio, [3,97])\n",
    "\n",
    "# compute the expected value of the predicted ratio\n",
    "ratio_mean = np.mean(ratio)\n",
    "\n",
    "# compute the probability that ratio is lower than the average probability from traditional vaccines\n",
    "traditional_prob = 0.2  # average probability from traditional vaccines\n",
    "ratio_prob = np.mean(ratio < traditional_prob)\n",
    "\n",
    "# print the results\n",
    "print(f\"Predicted ratio 94% HDI in range: {ratio_hdi}\")\n",
    "print(f\"Predicted expected value: {ratio_mean}\")\n",
    "print(f\"Probability of ratio < {traditional_prob}: {ratio_prob}\")"
   ]
  }
 ],
 "metadata": {
  "kernelspec": {
   "display_name": "Python 3",
   "language": "python",
   "name": "python3"
  },
  "language_info": {
   "codemirror_mode": {
    "name": "ipython",
    "version": 3
   },
   "file_extension": ".py",
   "mimetype": "text/x-python",
   "name": "python",
   "nbconvert_exporter": "python",
   "pygments_lexer": "ipython3",
   "version": "3.9.11"
  },
  "orig_nbformat": 4
 },
 "nbformat": 4,
 "nbformat_minor": 2
}
